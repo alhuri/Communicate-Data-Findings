{
 "cells": [
  {
   "cell_type": "markdown",
   "metadata": {},
   "source": [
    "# Introduction\n",
    "The Bay Area's bike share system is called Ford GoBike. Bay Area Bike Share began as a regional trial program in 2013, with 700 bikes and 70 stations spread across San Francisco and San Jose. Ford GoBike will have 7,000 bikes throughout San Francisco, the East Bay, and San Jose after the expansion is complete.\n",
    "Ford GoBike, like other bike sharing systems, is made up of a fleet of specifically built, strong, and durable bikes that are docked at various locations across the city. The bikes may be unlocked at any station in the system and returned to any other, making them perfect for one-way excursions. Bike share is used to travel to work or school, do errands, and attend appointments."
   ]
  },
  {
   "cell_type": "markdown",
   "metadata": {},
   "source": [
    "## Wrangling"
   ]
  },
  {
   "cell_type": "code",
   "execution_count": 1,
   "metadata": {},
   "outputs": [],
   "source": [
    "import numpy as np\n",
    "import pandas as pd\n",
    "import matplotlib.pyplot as plt\n",
    "%matplotlib inline\n",
    "import seaborn as sns\n",
    "import glob\n",
    "import os\n",
    "import datetime"
   ]
  },
  {
   "cell_type": "markdown",
   "metadata": {},
   "source": [
    "## Dataset Overview"
   ]
  },
  {
   "cell_type": "markdown",
   "metadata": {},
   "source": [
    "My source data was Ford GoBike System Data: https://www.fordgobike.com/system-data This data collection contains data about individual bike-sharing system trips. If a complete year of coverage is needed, multiple data files will need to be linked together. This document delves into the public trip data for the Ford GoBike, which includes about 1,850,000 bike rides from FY2018. The trip start/end time, but also additional variables like user type, gender, and age, were all included in the data."
   ]
  },
  {
   "cell_type": "code",
   "execution_count": 2,
   "metadata": {},
   "outputs": [],
   "source": [
    "df= pd.read_csv('201902-fordgobike-tripdata.csv')"
   ]
  },
  {
   "cell_type": "code",
   "execution_count": 3,
   "metadata": {},
   "outputs": [
    {
     "data": {
      "text/html": [
       "<div>\n",
       "<style scoped>\n",
       "    .dataframe tbody tr th:only-of-type {\n",
       "        vertical-align: middle;\n",
       "    }\n",
       "\n",
       "    .dataframe tbody tr th {\n",
       "        vertical-align: top;\n",
       "    }\n",
       "\n",
       "    .dataframe thead th {\n",
       "        text-align: right;\n",
       "    }\n",
       "</style>\n",
       "<table border=\"1\" class=\"dataframe\">\n",
       "  <thead>\n",
       "    <tr style=\"text-align: right;\">\n",
       "      <th></th>\n",
       "      <th>duration_sec</th>\n",
       "      <th>start_time</th>\n",
       "      <th>end_time</th>\n",
       "      <th>start_station_id</th>\n",
       "      <th>start_station_name</th>\n",
       "      <th>start_station_latitude</th>\n",
       "      <th>start_station_longitude</th>\n",
       "      <th>end_station_id</th>\n",
       "      <th>end_station_name</th>\n",
       "      <th>end_station_latitude</th>\n",
       "      <th>end_station_longitude</th>\n",
       "      <th>bike_id</th>\n",
       "      <th>user_type</th>\n",
       "      <th>member_birth_year</th>\n",
       "      <th>member_gender</th>\n",
       "      <th>bike_share_for_all_trip</th>\n",
       "    </tr>\n",
       "  </thead>\n",
       "  <tbody>\n",
       "    <tr>\n",
       "      <th>149118</th>\n",
       "      <td>414</td>\n",
       "      <td>2019-02-06 19:56:46.5360</td>\n",
       "      <td>2019-02-06 20:03:41.1170</td>\n",
       "      <td>355.0</td>\n",
       "      <td>23rd St at Tennessee St</td>\n",
       "      <td>37.755367</td>\n",
       "      <td>-122.388795</td>\n",
       "      <td>364.0</td>\n",
       "      <td>China Basin St at 3rd St</td>\n",
       "      <td>37.772000</td>\n",
       "      <td>-122.389970</td>\n",
       "      <td>4629</td>\n",
       "      <td>Subscriber</td>\n",
       "      <td>1992.0</td>\n",
       "      <td>Male</td>\n",
       "      <td>No</td>\n",
       "    </tr>\n",
       "    <tr>\n",
       "      <th>117289</th>\n",
       "      <td>435</td>\n",
       "      <td>2019-02-11 22:57:15.4970</td>\n",
       "      <td>2019-02-11 23:04:30.6580</td>\n",
       "      <td>124.0</td>\n",
       "      <td>19th St at Florida St</td>\n",
       "      <td>37.760447</td>\n",
       "      <td>-122.410807</td>\n",
       "      <td>115.0</td>\n",
       "      <td>Jackson Playground</td>\n",
       "      <td>37.765026</td>\n",
       "      <td>-122.398773</td>\n",
       "      <td>4979</td>\n",
       "      <td>Subscriber</td>\n",
       "      <td>1986.0</td>\n",
       "      <td>Male</td>\n",
       "      <td>No</td>\n",
       "    </tr>\n",
       "    <tr>\n",
       "      <th>101693</th>\n",
       "      <td>568</td>\n",
       "      <td>2019-02-14 17:17:20.2420</td>\n",
       "      <td>2019-02-14 17:26:48.9770</td>\n",
       "      <td>25.0</td>\n",
       "      <td>Howard St at 2nd St</td>\n",
       "      <td>37.787522</td>\n",
       "      <td>-122.397405</td>\n",
       "      <td>61.0</td>\n",
       "      <td>Howard St at 8th St</td>\n",
       "      <td>37.776513</td>\n",
       "      <td>-122.411306</td>\n",
       "      <td>4738</td>\n",
       "      <td>Subscriber</td>\n",
       "      <td>NaN</td>\n",
       "      <td>NaN</td>\n",
       "      <td>No</td>\n",
       "    </tr>\n",
       "    <tr>\n",
       "      <th>124351</th>\n",
       "      <td>430</td>\n",
       "      <td>2019-02-11 08:38:18.0140</td>\n",
       "      <td>2019-02-11 08:45:28.8350</td>\n",
       "      <td>22.0</td>\n",
       "      <td>Howard St at Beale St</td>\n",
       "      <td>37.789756</td>\n",
       "      <td>-122.394643</td>\n",
       "      <td>349.0</td>\n",
       "      <td>Howard St at Mary St</td>\n",
       "      <td>37.781010</td>\n",
       "      <td>-122.405666</td>\n",
       "      <td>4603</td>\n",
       "      <td>Subscriber</td>\n",
       "      <td>1987.0</td>\n",
       "      <td>Male</td>\n",
       "      <td>No</td>\n",
       "    </tr>\n",
       "    <tr>\n",
       "      <th>171655</th>\n",
       "      <td>296</td>\n",
       "      <td>2019-02-03 19:35:06.5200</td>\n",
       "      <td>2019-02-03 19:40:03.4260</td>\n",
       "      <td>96.0</td>\n",
       "      <td>Dolores St at 15th St</td>\n",
       "      <td>37.766210</td>\n",
       "      <td>-122.426614</td>\n",
       "      <td>99.0</td>\n",
       "      <td>Folsom St at 15th St</td>\n",
       "      <td>37.767037</td>\n",
       "      <td>-122.415443</td>\n",
       "      <td>5565</td>\n",
       "      <td>Subscriber</td>\n",
       "      <td>1982.0</td>\n",
       "      <td>Male</td>\n",
       "      <td>No</td>\n",
       "    </tr>\n",
       "    <tr>\n",
       "      <th>97406</th>\n",
       "      <td>722</td>\n",
       "      <td>2019-02-15 08:54:12.9500</td>\n",
       "      <td>2019-02-15 09:06:15.4090</td>\n",
       "      <td>369.0</td>\n",
       "      <td>Hyde St at Post St</td>\n",
       "      <td>37.787349</td>\n",
       "      <td>-122.416651</td>\n",
       "      <td>79.0</td>\n",
       "      <td>7th St at Brannan St</td>\n",
       "      <td>37.773492</td>\n",
       "      <td>-122.403673</td>\n",
       "      <td>6233</td>\n",
       "      <td>Subscriber</td>\n",
       "      <td>1981.0</td>\n",
       "      <td>Male</td>\n",
       "      <td>No</td>\n",
       "    </tr>\n",
       "    <tr>\n",
       "      <th>164780</th>\n",
       "      <td>711</td>\n",
       "      <td>2019-02-05 08:03:56.4440</td>\n",
       "      <td>2019-02-05 08:15:48.3850</td>\n",
       "      <td>356.0</td>\n",
       "      <td>Valencia St at Clinton Park</td>\n",
       "      <td>37.769188</td>\n",
       "      <td>-122.422285</td>\n",
       "      <td>284.0</td>\n",
       "      <td>Yerba Buena Center for the Arts (Howard St at ...</td>\n",
       "      <td>37.784872</td>\n",
       "      <td>-122.400876</td>\n",
       "      <td>5528</td>\n",
       "      <td>Subscriber</td>\n",
       "      <td>NaN</td>\n",
       "      <td>NaN</td>\n",
       "      <td>No</td>\n",
       "    </tr>\n",
       "    <tr>\n",
       "      <th>180802</th>\n",
       "      <td>378</td>\n",
       "      <td>2019-02-01 10:04:25.4510</td>\n",
       "      <td>2019-02-01 10:10:43.9680</td>\n",
       "      <td>15.0</td>\n",
       "      <td>San Francisco Ferry Building (Harry Bridges Pl...</td>\n",
       "      <td>37.795392</td>\n",
       "      <td>-122.394203</td>\n",
       "      <td>21.0</td>\n",
       "      <td>Montgomery St BART Station (Market St at 2nd St)</td>\n",
       "      <td>37.789625</td>\n",
       "      <td>-122.400811</td>\n",
       "      <td>5120</td>\n",
       "      <td>Subscriber</td>\n",
       "      <td>1951.0</td>\n",
       "      <td>Male</td>\n",
       "      <td>No</td>\n",
       "    </tr>\n",
       "    <tr>\n",
       "      <th>107441</th>\n",
       "      <td>747</td>\n",
       "      <td>2019-02-13 16:07:40.7090</td>\n",
       "      <td>2019-02-13 16:20:07.9510</td>\n",
       "      <td>104.0</td>\n",
       "      <td>4th St at 16th St</td>\n",
       "      <td>37.767045</td>\n",
       "      <td>-122.390833</td>\n",
       "      <td>15.0</td>\n",
       "      <td>San Francisco Ferry Building (Harry Bridges Pl...</td>\n",
       "      <td>37.795392</td>\n",
       "      <td>-122.394203</td>\n",
       "      <td>140</td>\n",
       "      <td>Customer</td>\n",
       "      <td>1980.0</td>\n",
       "      <td>Female</td>\n",
       "      <td>No</td>\n",
       "    </tr>\n",
       "    <tr>\n",
       "      <th>108580</th>\n",
       "      <td>154</td>\n",
       "      <td>2019-02-13 07:48:32.2210</td>\n",
       "      <td>2019-02-13 07:51:07.2050</td>\n",
       "      <td>343.0</td>\n",
       "      <td>Bryant St at 2nd St</td>\n",
       "      <td>37.783172</td>\n",
       "      <td>-122.393572</td>\n",
       "      <td>66.0</td>\n",
       "      <td>3rd St at Townsend St</td>\n",
       "      <td>37.778742</td>\n",
       "      <td>-122.392741</td>\n",
       "      <td>6210</td>\n",
       "      <td>Subscriber</td>\n",
       "      <td>1993.0</td>\n",
       "      <td>Male</td>\n",
       "      <td>No</td>\n",
       "    </tr>\n",
       "  </tbody>\n",
       "</table>\n",
       "</div>"
      ],
      "text/plain": [
       "        duration_sec                start_time                  end_time  \\\n",
       "149118           414  2019-02-06 19:56:46.5360  2019-02-06 20:03:41.1170   \n",
       "117289           435  2019-02-11 22:57:15.4970  2019-02-11 23:04:30.6580   \n",
       "101693           568  2019-02-14 17:17:20.2420  2019-02-14 17:26:48.9770   \n",
       "124351           430  2019-02-11 08:38:18.0140  2019-02-11 08:45:28.8350   \n",
       "171655           296  2019-02-03 19:35:06.5200  2019-02-03 19:40:03.4260   \n",
       "97406            722  2019-02-15 08:54:12.9500  2019-02-15 09:06:15.4090   \n",
       "164780           711  2019-02-05 08:03:56.4440  2019-02-05 08:15:48.3850   \n",
       "180802           378  2019-02-01 10:04:25.4510  2019-02-01 10:10:43.9680   \n",
       "107441           747  2019-02-13 16:07:40.7090  2019-02-13 16:20:07.9510   \n",
       "108580           154  2019-02-13 07:48:32.2210  2019-02-13 07:51:07.2050   \n",
       "\n",
       "        start_station_id                                 start_station_name  \\\n",
       "149118             355.0                            23rd St at Tennessee St   \n",
       "117289             124.0                              19th St at Florida St   \n",
       "101693              25.0                                Howard St at 2nd St   \n",
       "124351              22.0                              Howard St at Beale St   \n",
       "171655              96.0                              Dolores St at 15th St   \n",
       "97406              369.0                                 Hyde St at Post St   \n",
       "164780             356.0                        Valencia St at Clinton Park   \n",
       "180802              15.0  San Francisco Ferry Building (Harry Bridges Pl...   \n",
       "107441             104.0                                  4th St at 16th St   \n",
       "108580             343.0                                Bryant St at 2nd St   \n",
       "\n",
       "        start_station_latitude  start_station_longitude  end_station_id  \\\n",
       "149118               37.755367              -122.388795           364.0   \n",
       "117289               37.760447              -122.410807           115.0   \n",
       "101693               37.787522              -122.397405            61.0   \n",
       "124351               37.789756              -122.394643           349.0   \n",
       "171655               37.766210              -122.426614            99.0   \n",
       "97406                37.787349              -122.416651            79.0   \n",
       "164780               37.769188              -122.422285           284.0   \n",
       "180802               37.795392              -122.394203            21.0   \n",
       "107441               37.767045              -122.390833            15.0   \n",
       "108580               37.783172              -122.393572            66.0   \n",
       "\n",
       "                                         end_station_name  \\\n",
       "149118                           China Basin St at 3rd St   \n",
       "117289                                 Jackson Playground   \n",
       "101693                                Howard St at 8th St   \n",
       "124351                               Howard St at Mary St   \n",
       "171655                               Folsom St at 15th St   \n",
       "97406                                7th St at Brannan St   \n",
       "164780  Yerba Buena Center for the Arts (Howard St at ...   \n",
       "180802   Montgomery St BART Station (Market St at 2nd St)   \n",
       "107441  San Francisco Ferry Building (Harry Bridges Pl...   \n",
       "108580                              3rd St at Townsend St   \n",
       "\n",
       "        end_station_latitude  end_station_longitude  bike_id   user_type  \\\n",
       "149118             37.772000            -122.389970     4629  Subscriber   \n",
       "117289             37.765026            -122.398773     4979  Subscriber   \n",
       "101693             37.776513            -122.411306     4738  Subscriber   \n",
       "124351             37.781010            -122.405666     4603  Subscriber   \n",
       "171655             37.767037            -122.415443     5565  Subscriber   \n",
       "97406              37.773492            -122.403673     6233  Subscriber   \n",
       "164780             37.784872            -122.400876     5528  Subscriber   \n",
       "180802             37.789625            -122.400811     5120  Subscriber   \n",
       "107441             37.795392            -122.394203      140    Customer   \n",
       "108580             37.778742            -122.392741     6210  Subscriber   \n",
       "\n",
       "        member_birth_year member_gender bike_share_for_all_trip  \n",
       "149118             1992.0          Male                      No  \n",
       "117289             1986.0          Male                      No  \n",
       "101693                NaN           NaN                      No  \n",
       "124351             1987.0          Male                      No  \n",
       "171655             1982.0          Male                      No  \n",
       "97406              1981.0          Male                      No  \n",
       "164780                NaN           NaN                      No  \n",
       "180802             1951.0          Male                      No  \n",
       "107441             1980.0        Female                      No  \n",
       "108580             1993.0          Male                      No  "
      ]
     },
     "execution_count": 3,
     "metadata": {},
     "output_type": "execute_result"
    }
   ],
   "source": [
    "df.sample(10)"
   ]
  },
  {
   "cell_type": "code",
   "execution_count": 4,
   "metadata": {},
   "outputs": [
    {
     "name": "stdout",
     "output_type": "stream",
     "text": [
      "<class 'pandas.core.frame.DataFrame'>\n",
      "RangeIndex: 183412 entries, 0 to 183411\n",
      "Data columns (total 16 columns):\n",
      " #   Column                   Non-Null Count   Dtype  \n",
      "---  ------                   --------------   -----  \n",
      " 0   duration_sec             183412 non-null  int64  \n",
      " 1   start_time               183412 non-null  object \n",
      " 2   end_time                 183412 non-null  object \n",
      " 3   start_station_id         183215 non-null  float64\n",
      " 4   start_station_name       183215 non-null  object \n",
      " 5   start_station_latitude   183412 non-null  float64\n",
      " 6   start_station_longitude  183412 non-null  float64\n",
      " 7   end_station_id           183215 non-null  float64\n",
      " 8   end_station_name         183215 non-null  object \n",
      " 9   end_station_latitude     183412 non-null  float64\n",
      " 10  end_station_longitude    183412 non-null  float64\n",
      " 11  bike_id                  183412 non-null  int64  \n",
      " 12  user_type                183412 non-null  object \n",
      " 13  member_birth_year        175147 non-null  float64\n",
      " 14  member_gender            175147 non-null  object \n",
      " 15  bike_share_for_all_trip  183412 non-null  object \n",
      "dtypes: float64(7), int64(2), object(7)\n",
      "memory usage: 22.4+ MB\n"
     ]
    }
   ],
   "source": [
    "df.info()"
   ]
  },
  {
   "cell_type": "code",
   "execution_count": 5,
   "metadata": {},
   "outputs": [
    {
     "data": {
      "text/plain": [
       "(183412, 16)"
      ]
     },
     "execution_count": 5,
     "metadata": {},
     "output_type": "execute_result"
    }
   ],
   "source": [
    "df.shape"
   ]
  },
  {
   "cell_type": "code",
   "execution_count": 6,
   "metadata": {},
   "outputs": [
    {
     "data": {
      "text/html": [
       "<div>\n",
       "<style scoped>\n",
       "    .dataframe tbody tr th:only-of-type {\n",
       "        vertical-align: middle;\n",
       "    }\n",
       "\n",
       "    .dataframe tbody tr th {\n",
       "        vertical-align: top;\n",
       "    }\n",
       "\n",
       "    .dataframe thead th {\n",
       "        text-align: right;\n",
       "    }\n",
       "</style>\n",
       "<table border=\"1\" class=\"dataframe\">\n",
       "  <thead>\n",
       "    <tr style=\"text-align: right;\">\n",
       "      <th></th>\n",
       "      <th>duration_sec</th>\n",
       "      <th>start_station_id</th>\n",
       "      <th>start_station_latitude</th>\n",
       "      <th>start_station_longitude</th>\n",
       "      <th>end_station_id</th>\n",
       "      <th>end_station_latitude</th>\n",
       "      <th>end_station_longitude</th>\n",
       "      <th>bike_id</th>\n",
       "      <th>member_birth_year</th>\n",
       "    </tr>\n",
       "  </thead>\n",
       "  <tbody>\n",
       "    <tr>\n",
       "      <th>count</th>\n",
       "      <td>183412.000000</td>\n",
       "      <td>183215.000000</td>\n",
       "      <td>183412.000000</td>\n",
       "      <td>183412.000000</td>\n",
       "      <td>183215.000000</td>\n",
       "      <td>183412.000000</td>\n",
       "      <td>183412.000000</td>\n",
       "      <td>183412.000000</td>\n",
       "      <td>175147.000000</td>\n",
       "    </tr>\n",
       "    <tr>\n",
       "      <th>mean</th>\n",
       "      <td>726.078435</td>\n",
       "      <td>138.590427</td>\n",
       "      <td>37.771223</td>\n",
       "      <td>-122.352664</td>\n",
       "      <td>136.249123</td>\n",
       "      <td>37.771427</td>\n",
       "      <td>-122.352250</td>\n",
       "      <td>4472.906375</td>\n",
       "      <td>1984.806437</td>\n",
       "    </tr>\n",
       "    <tr>\n",
       "      <th>std</th>\n",
       "      <td>1794.389780</td>\n",
       "      <td>111.778864</td>\n",
       "      <td>0.099581</td>\n",
       "      <td>0.117097</td>\n",
       "      <td>111.515131</td>\n",
       "      <td>0.099490</td>\n",
       "      <td>0.116673</td>\n",
       "      <td>1664.383394</td>\n",
       "      <td>10.116689</td>\n",
       "    </tr>\n",
       "    <tr>\n",
       "      <th>min</th>\n",
       "      <td>61.000000</td>\n",
       "      <td>3.000000</td>\n",
       "      <td>37.317298</td>\n",
       "      <td>-122.453704</td>\n",
       "      <td>3.000000</td>\n",
       "      <td>37.317298</td>\n",
       "      <td>-122.453704</td>\n",
       "      <td>11.000000</td>\n",
       "      <td>1878.000000</td>\n",
       "    </tr>\n",
       "    <tr>\n",
       "      <th>25%</th>\n",
       "      <td>325.000000</td>\n",
       "      <td>47.000000</td>\n",
       "      <td>37.770083</td>\n",
       "      <td>-122.412408</td>\n",
       "      <td>44.000000</td>\n",
       "      <td>37.770407</td>\n",
       "      <td>-122.411726</td>\n",
       "      <td>3777.000000</td>\n",
       "      <td>1980.000000</td>\n",
       "    </tr>\n",
       "    <tr>\n",
       "      <th>50%</th>\n",
       "      <td>514.000000</td>\n",
       "      <td>104.000000</td>\n",
       "      <td>37.780760</td>\n",
       "      <td>-122.398285</td>\n",
       "      <td>100.000000</td>\n",
       "      <td>37.781010</td>\n",
       "      <td>-122.398279</td>\n",
       "      <td>4958.000000</td>\n",
       "      <td>1987.000000</td>\n",
       "    </tr>\n",
       "    <tr>\n",
       "      <th>75%</th>\n",
       "      <td>796.000000</td>\n",
       "      <td>239.000000</td>\n",
       "      <td>37.797280</td>\n",
       "      <td>-122.286533</td>\n",
       "      <td>235.000000</td>\n",
       "      <td>37.797320</td>\n",
       "      <td>-122.288045</td>\n",
       "      <td>5502.000000</td>\n",
       "      <td>1992.000000</td>\n",
       "    </tr>\n",
       "    <tr>\n",
       "      <th>max</th>\n",
       "      <td>85444.000000</td>\n",
       "      <td>398.000000</td>\n",
       "      <td>37.880222</td>\n",
       "      <td>-121.874119</td>\n",
       "      <td>398.000000</td>\n",
       "      <td>37.880222</td>\n",
       "      <td>-121.874119</td>\n",
       "      <td>6645.000000</td>\n",
       "      <td>2001.000000</td>\n",
       "    </tr>\n",
       "  </tbody>\n",
       "</table>\n",
       "</div>"
      ],
      "text/plain": [
       "        duration_sec  start_station_id  start_station_latitude  \\\n",
       "count  183412.000000     183215.000000           183412.000000   \n",
       "mean      726.078435        138.590427               37.771223   \n",
       "std      1794.389780        111.778864                0.099581   \n",
       "min        61.000000          3.000000               37.317298   \n",
       "25%       325.000000         47.000000               37.770083   \n",
       "50%       514.000000        104.000000               37.780760   \n",
       "75%       796.000000        239.000000               37.797280   \n",
       "max     85444.000000        398.000000               37.880222   \n",
       "\n",
       "       start_station_longitude  end_station_id  end_station_latitude  \\\n",
       "count            183412.000000   183215.000000         183412.000000   \n",
       "mean               -122.352664      136.249123             37.771427   \n",
       "std                   0.117097      111.515131              0.099490   \n",
       "min                -122.453704        3.000000             37.317298   \n",
       "25%                -122.412408       44.000000             37.770407   \n",
       "50%                -122.398285      100.000000             37.781010   \n",
       "75%                -122.286533      235.000000             37.797320   \n",
       "max                -121.874119      398.000000             37.880222   \n",
       "\n",
       "       end_station_longitude        bike_id  member_birth_year  \n",
       "count          183412.000000  183412.000000      175147.000000  \n",
       "mean             -122.352250    4472.906375        1984.806437  \n",
       "std                 0.116673    1664.383394          10.116689  \n",
       "min              -122.453704      11.000000        1878.000000  \n",
       "25%              -122.411726    3777.000000        1980.000000  \n",
       "50%              -122.398279    4958.000000        1987.000000  \n",
       "75%              -122.288045    5502.000000        1992.000000  \n",
       "max              -121.874119    6645.000000        2001.000000  "
      ]
     },
     "execution_count": 6,
     "metadata": {},
     "output_type": "execute_result"
    }
   ],
   "source": [
    "df.describe()"
   ]
  },
  {
   "cell_type": "code",
   "execution_count": 7,
   "metadata": {},
   "outputs": [
    {
     "data": {
      "text/plain": [
       "0"
      ]
     },
     "execution_count": 7,
     "metadata": {},
     "output_type": "execute_result"
    }
   ],
   "source": [
    "df.duplicated().sum()"
   ]
  },
  {
   "cell_type": "code",
   "execution_count": 8,
   "metadata": {},
   "outputs": [],
   "source": [
    "df_cleaned = df.copy()"
   ]
  },
  {
   "cell_type": "code",
   "execution_count": 9,
   "metadata": {},
   "outputs": [],
   "source": [
    "df_cleaned['member_age'] = 2021 - df_cleaned['member_birth_year']"
   ]
  },
  {
   "cell_type": "code",
   "execution_count": 10,
   "metadata": {},
   "outputs": [],
   "source": [
    "df_cleaned = df_cleaned.query('member_age <=60')"
   ]
  },
  {
   "cell_type": "code",
   "execution_count": 11,
   "metadata": {},
   "outputs": [],
   "source": [
    "df_cleaned.member_age = df_cleaned.member_age.astype(int)\n",
    "df_cleaned.member_birth_year = df_cleaned.member_birth_year.astype(int)"
   ]
  },
  {
   "cell_type": "code",
   "execution_count": 12,
   "metadata": {},
   "outputs": [
    {
     "name": "stdout",
     "output_type": "stream",
     "text": [
      "<class 'pandas.core.frame.DataFrame'>\n",
      "Int64Index: 170186 entries, 0 to 183411\n",
      "Data columns (total 17 columns):\n",
      " #   Column                   Non-Null Count   Dtype  \n",
      "---  ------                   --------------   -----  \n",
      " 0   duration_sec             170186 non-null  int64  \n",
      " 1   start_time               170186 non-null  object \n",
      " 2   end_time                 170186 non-null  object \n",
      " 3   start_station_id         169992 non-null  float64\n",
      " 4   start_station_name       169992 non-null  object \n",
      " 5   start_station_latitude   170186 non-null  float64\n",
      " 6   start_station_longitude  170186 non-null  float64\n",
      " 7   end_station_id           169992 non-null  float64\n",
      " 8   end_station_name         169992 non-null  object \n",
      " 9   end_station_latitude     170186 non-null  float64\n",
      " 10  end_station_longitude    170186 non-null  float64\n",
      " 11  bike_id                  170186 non-null  int64  \n",
      " 12  user_type                170186 non-null  object \n",
      " 13  member_birth_year        170186 non-null  int32  \n",
      " 14  member_gender            170186 non-null  object \n",
      " 15  bike_share_for_all_trip  170186 non-null  object \n",
      " 16  member_age               170186 non-null  int32  \n",
      "dtypes: float64(6), int32(2), int64(2), object(7)\n",
      "memory usage: 22.1+ MB\n"
     ]
    }
   ],
   "source": [
    "df_cleaned.info()"
   ]
  },
  {
   "cell_type": "code",
   "execution_count": 13,
   "metadata": {},
   "outputs": [],
   "source": [
    "df_cleaned.start_time = pd.to_datetime(df_cleaned.start_time)\n",
    "df_cleaned.end_time = pd.to_datetime(df_cleaned.end_time)"
   ]
  },
  {
   "cell_type": "code",
   "execution_count": 14,
   "metadata": {},
   "outputs": [],
   "source": [
    "df_cleaned['start_time_month'] = df_cleaned['start_time'].dt.strftime('%B')"
   ]
  },
  {
   "cell_type": "code",
   "execution_count": 15,
   "metadata": {},
   "outputs": [],
   "source": [
    "df_cleaned['start_time_day'] = df_cleaned['start_time'].dt.strftime('%a')\n"
   ]
  },
  {
   "cell_type": "code",
   "execution_count": 16,
   "metadata": {},
   "outputs": [],
   "source": [
    "df_cleaned['start_time_hour'] = df_cleaned['start_time'].dt.hour"
   ]
  },
  {
   "cell_type": "code",
   "execution_count": 17,
   "metadata": {},
   "outputs": [
    {
     "data": {
      "text/html": [
       "<div>\n",
       "<style scoped>\n",
       "    .dataframe tbody tr th:only-of-type {\n",
       "        vertical-align: middle;\n",
       "    }\n",
       "\n",
       "    .dataframe tbody tr th {\n",
       "        vertical-align: top;\n",
       "    }\n",
       "\n",
       "    .dataframe thead th {\n",
       "        text-align: right;\n",
       "    }\n",
       "</style>\n",
       "<table border=\"1\" class=\"dataframe\">\n",
       "  <thead>\n",
       "    <tr style=\"text-align: right;\">\n",
       "      <th></th>\n",
       "      <th>duration_sec</th>\n",
       "      <th>start_time</th>\n",
       "      <th>end_time</th>\n",
       "      <th>start_station_id</th>\n",
       "      <th>start_station_name</th>\n",
       "      <th>start_station_latitude</th>\n",
       "      <th>start_station_longitude</th>\n",
       "      <th>end_station_id</th>\n",
       "      <th>end_station_name</th>\n",
       "      <th>end_station_latitude</th>\n",
       "      <th>end_station_longitude</th>\n",
       "      <th>bike_id</th>\n",
       "      <th>user_type</th>\n",
       "      <th>member_birth_year</th>\n",
       "      <th>member_gender</th>\n",
       "      <th>bike_share_for_all_trip</th>\n",
       "      <th>member_age</th>\n",
       "      <th>start_time_month</th>\n",
       "      <th>start_time_day</th>\n",
       "      <th>start_time_hour</th>\n",
       "    </tr>\n",
       "  </thead>\n",
       "  <tbody>\n",
       "    <tr>\n",
       "      <th>57000</th>\n",
       "      <td>288</td>\n",
       "      <td>2019-02-21 08:41:30.963</td>\n",
       "      <td>2019-02-21 08:46:19.144</td>\n",
       "      <td>64.0</td>\n",
       "      <td>5th St at Brannan St</td>\n",
       "      <td>37.776754</td>\n",
       "      <td>-122.399018</td>\n",
       "      <td>284.0</td>\n",
       "      <td>Yerba Buena Center for the Arts (Howard St at ...</td>\n",
       "      <td>37.784872</td>\n",
       "      <td>-122.400876</td>\n",
       "      <td>4826</td>\n",
       "      <td>Subscriber</td>\n",
       "      <td>1982</td>\n",
       "      <td>Male</td>\n",
       "      <td>No</td>\n",
       "      <td>39</td>\n",
       "      <td>February</td>\n",
       "      <td>Thu</td>\n",
       "      <td>8</td>\n",
       "    </tr>\n",
       "    <tr>\n",
       "      <th>98097</th>\n",
       "      <td>362</td>\n",
       "      <td>2019-02-15 08:17:01.717</td>\n",
       "      <td>2019-02-15 08:23:04.163</td>\n",
       "      <td>181.0</td>\n",
       "      <td>Grand Ave at Webster St</td>\n",
       "      <td>37.811377</td>\n",
       "      <td>-122.265192</td>\n",
       "      <td>159.0</td>\n",
       "      <td>24th St at Market St</td>\n",
       "      <td>37.816060</td>\n",
       "      <td>-122.278244</td>\n",
       "      <td>4587</td>\n",
       "      <td>Subscriber</td>\n",
       "      <td>1965</td>\n",
       "      <td>Male</td>\n",
       "      <td>No</td>\n",
       "      <td>56</td>\n",
       "      <td>February</td>\n",
       "      <td>Fri</td>\n",
       "      <td>8</td>\n",
       "    </tr>\n",
       "    <tr>\n",
       "      <th>182867</th>\n",
       "      <td>433</td>\n",
       "      <td>2019-02-01 07:40:41.036</td>\n",
       "      <td>2019-02-01 07:47:54.194</td>\n",
       "      <td>107.0</td>\n",
       "      <td>17th St at Dolores St</td>\n",
       "      <td>37.763015</td>\n",
       "      <td>-122.426497</td>\n",
       "      <td>58.0</td>\n",
       "      <td>Market St at 10th St</td>\n",
       "      <td>37.776619</td>\n",
       "      <td>-122.417385</td>\n",
       "      <td>4654</td>\n",
       "      <td>Subscriber</td>\n",
       "      <td>1992</td>\n",
       "      <td>Male</td>\n",
       "      <td>No</td>\n",
       "      <td>29</td>\n",
       "      <td>February</td>\n",
       "      <td>Fri</td>\n",
       "      <td>7</td>\n",
       "    </tr>\n",
       "    <tr>\n",
       "      <th>29503</th>\n",
       "      <td>507</td>\n",
       "      <td>2019-02-25 07:19:02.470</td>\n",
       "      <td>2019-02-25 07:27:29.734</td>\n",
       "      <td>66.0</td>\n",
       "      <td>3rd St at Townsend St</td>\n",
       "      <td>37.778742</td>\n",
       "      <td>-122.392741</td>\n",
       "      <td>8.0</td>\n",
       "      <td>The Embarcadero at Vallejo St</td>\n",
       "      <td>37.799953</td>\n",
       "      <td>-122.398525</td>\n",
       "      <td>4962</td>\n",
       "      <td>Subscriber</td>\n",
       "      <td>1982</td>\n",
       "      <td>Female</td>\n",
       "      <td>No</td>\n",
       "      <td>39</td>\n",
       "      <td>February</td>\n",
       "      <td>Mon</td>\n",
       "      <td>7</td>\n",
       "    </tr>\n",
       "    <tr>\n",
       "      <th>133994</th>\n",
       "      <td>578</td>\n",
       "      <td>2019-02-08 18:00:52.076</td>\n",
       "      <td>2019-02-08 18:10:30.437</td>\n",
       "      <td>160.0</td>\n",
       "      <td>West Oakland BART Station</td>\n",
       "      <td>37.805318</td>\n",
       "      <td>-122.294837</td>\n",
       "      <td>213.0</td>\n",
       "      <td>32nd St at Adeline St</td>\n",
       "      <td>37.823847</td>\n",
       "      <td>-122.281193</td>\n",
       "      <td>4483</td>\n",
       "      <td>Subscriber</td>\n",
       "      <td>1994</td>\n",
       "      <td>Female</td>\n",
       "      <td>No</td>\n",
       "      <td>27</td>\n",
       "      <td>February</td>\n",
       "      <td>Fri</td>\n",
       "      <td>18</td>\n",
       "    </tr>\n",
       "    <tr>\n",
       "      <th>109635</th>\n",
       "      <td>835</td>\n",
       "      <td>2019-02-12 18:41:46.198</td>\n",
       "      <td>2019-02-12 18:55:42.122</td>\n",
       "      <td>356.0</td>\n",
       "      <td>Valencia St at Clinton Park</td>\n",
       "      <td>37.769188</td>\n",
       "      <td>-122.422285</td>\n",
       "      <td>141.0</td>\n",
       "      <td>Valencia St at Cesar Chavez St</td>\n",
       "      <td>37.747998</td>\n",
       "      <td>-122.420219</td>\n",
       "      <td>5346</td>\n",
       "      <td>Subscriber</td>\n",
       "      <td>1980</td>\n",
       "      <td>Female</td>\n",
       "      <td>No</td>\n",
       "      <td>41</td>\n",
       "      <td>February</td>\n",
       "      <td>Tue</td>\n",
       "      <td>18</td>\n",
       "    </tr>\n",
       "    <tr>\n",
       "      <th>84133</th>\n",
       "      <td>1086</td>\n",
       "      <td>2019-02-17 18:33:48.689</td>\n",
       "      <td>2019-02-17 18:51:54.722</td>\n",
       "      <td>241.0</td>\n",
       "      <td>Ashby BART Station</td>\n",
       "      <td>37.852477</td>\n",
       "      <td>-122.270213</td>\n",
       "      <td>249.0</td>\n",
       "      <td>Russell St at College Ave</td>\n",
       "      <td>37.858473</td>\n",
       "      <td>-122.253253</td>\n",
       "      <td>1550</td>\n",
       "      <td>Subscriber</td>\n",
       "      <td>1965</td>\n",
       "      <td>Male</td>\n",
       "      <td>No</td>\n",
       "      <td>56</td>\n",
       "      <td>February</td>\n",
       "      <td>Sun</td>\n",
       "      <td>18</td>\n",
       "    </tr>\n",
       "    <tr>\n",
       "      <th>79327</th>\n",
       "      <td>400</td>\n",
       "      <td>2019-02-18 17:44:28.829</td>\n",
       "      <td>2019-02-18 17:51:09.662</td>\n",
       "      <td>6.0</td>\n",
       "      <td>The Embarcadero at Sansome St</td>\n",
       "      <td>37.804770</td>\n",
       "      <td>-122.403234</td>\n",
       "      <td>25.0</td>\n",
       "      <td>Howard St at 2nd St</td>\n",
       "      <td>37.787522</td>\n",
       "      <td>-122.397405</td>\n",
       "      <td>4927</td>\n",
       "      <td>Subscriber</td>\n",
       "      <td>1980</td>\n",
       "      <td>Male</td>\n",
       "      <td>No</td>\n",
       "      <td>41</td>\n",
       "      <td>February</td>\n",
       "      <td>Mon</td>\n",
       "      <td>17</td>\n",
       "    </tr>\n",
       "    <tr>\n",
       "      <th>115247</th>\n",
       "      <td>218</td>\n",
       "      <td>2019-02-12 08:54:00.474</td>\n",
       "      <td>2019-02-12 08:57:38.889</td>\n",
       "      <td>114.0</td>\n",
       "      <td>Rhode Island St at 17th St</td>\n",
       "      <td>37.764478</td>\n",
       "      <td>-122.402570</td>\n",
       "      <td>116.0</td>\n",
       "      <td>Mississippi St at 17th St</td>\n",
       "      <td>37.764802</td>\n",
       "      <td>-122.394771</td>\n",
       "      <td>357</td>\n",
       "      <td>Subscriber</td>\n",
       "      <td>1986</td>\n",
       "      <td>Male</td>\n",
       "      <td>No</td>\n",
       "      <td>35</td>\n",
       "      <td>February</td>\n",
       "      <td>Tue</td>\n",
       "      <td>8</td>\n",
       "    </tr>\n",
       "    <tr>\n",
       "      <th>170684</th>\n",
       "      <td>306</td>\n",
       "      <td>2019-02-04 07:55:24.074</td>\n",
       "      <td>2019-02-04 08:00:30.659</td>\n",
       "      <td>310.0</td>\n",
       "      <td>San Fernando St at 4th St</td>\n",
       "      <td>37.335885</td>\n",
       "      <td>-121.885660</td>\n",
       "      <td>317.0</td>\n",
       "      <td>San Salvador St at 9th St</td>\n",
       "      <td>37.333955</td>\n",
       "      <td>-121.877349</td>\n",
       "      <td>1124</td>\n",
       "      <td>Subscriber</td>\n",
       "      <td>1992</td>\n",
       "      <td>Male</td>\n",
       "      <td>Yes</td>\n",
       "      <td>29</td>\n",
       "      <td>February</td>\n",
       "      <td>Mon</td>\n",
       "      <td>7</td>\n",
       "    </tr>\n",
       "  </tbody>\n",
       "</table>\n",
       "</div>"
      ],
      "text/plain": [
       "        duration_sec              start_time                end_time  \\\n",
       "57000            288 2019-02-21 08:41:30.963 2019-02-21 08:46:19.144   \n",
       "98097            362 2019-02-15 08:17:01.717 2019-02-15 08:23:04.163   \n",
       "182867           433 2019-02-01 07:40:41.036 2019-02-01 07:47:54.194   \n",
       "29503            507 2019-02-25 07:19:02.470 2019-02-25 07:27:29.734   \n",
       "133994           578 2019-02-08 18:00:52.076 2019-02-08 18:10:30.437   \n",
       "109635           835 2019-02-12 18:41:46.198 2019-02-12 18:55:42.122   \n",
       "84133           1086 2019-02-17 18:33:48.689 2019-02-17 18:51:54.722   \n",
       "79327            400 2019-02-18 17:44:28.829 2019-02-18 17:51:09.662   \n",
       "115247           218 2019-02-12 08:54:00.474 2019-02-12 08:57:38.889   \n",
       "170684           306 2019-02-04 07:55:24.074 2019-02-04 08:00:30.659   \n",
       "\n",
       "        start_station_id             start_station_name  \\\n",
       "57000               64.0           5th St at Brannan St   \n",
       "98097              181.0        Grand Ave at Webster St   \n",
       "182867             107.0          17th St at Dolores St   \n",
       "29503               66.0          3rd St at Townsend St   \n",
       "133994             160.0      West Oakland BART Station   \n",
       "109635             356.0    Valencia St at Clinton Park   \n",
       "84133              241.0             Ashby BART Station   \n",
       "79327                6.0  The Embarcadero at Sansome St   \n",
       "115247             114.0     Rhode Island St at 17th St   \n",
       "170684             310.0      San Fernando St at 4th St   \n",
       "\n",
       "        start_station_latitude  start_station_longitude  end_station_id  \\\n",
       "57000                37.776754              -122.399018           284.0   \n",
       "98097                37.811377              -122.265192           159.0   \n",
       "182867               37.763015              -122.426497            58.0   \n",
       "29503                37.778742              -122.392741             8.0   \n",
       "133994               37.805318              -122.294837           213.0   \n",
       "109635               37.769188              -122.422285           141.0   \n",
       "84133                37.852477              -122.270213           249.0   \n",
       "79327                37.804770              -122.403234            25.0   \n",
       "115247               37.764478              -122.402570           116.0   \n",
       "170684               37.335885              -121.885660           317.0   \n",
       "\n",
       "                                         end_station_name  \\\n",
       "57000   Yerba Buena Center for the Arts (Howard St at ...   \n",
       "98097                                24th St at Market St   \n",
       "182867                               Market St at 10th St   \n",
       "29503                       The Embarcadero at Vallejo St   \n",
       "133994                              32nd St at Adeline St   \n",
       "109635                     Valencia St at Cesar Chavez St   \n",
       "84133                           Russell St at College Ave   \n",
       "79327                                 Howard St at 2nd St   \n",
       "115247                          Mississippi St at 17th St   \n",
       "170684                          San Salvador St at 9th St   \n",
       "\n",
       "        end_station_latitude  end_station_longitude  bike_id   user_type  \\\n",
       "57000              37.784872            -122.400876     4826  Subscriber   \n",
       "98097              37.816060            -122.278244     4587  Subscriber   \n",
       "182867             37.776619            -122.417385     4654  Subscriber   \n",
       "29503              37.799953            -122.398525     4962  Subscriber   \n",
       "133994             37.823847            -122.281193     4483  Subscriber   \n",
       "109635             37.747998            -122.420219     5346  Subscriber   \n",
       "84133              37.858473            -122.253253     1550  Subscriber   \n",
       "79327              37.787522            -122.397405     4927  Subscriber   \n",
       "115247             37.764802            -122.394771      357  Subscriber   \n",
       "170684             37.333955            -121.877349     1124  Subscriber   \n",
       "\n",
       "        member_birth_year member_gender bike_share_for_all_trip  member_age  \\\n",
       "57000                1982          Male                      No          39   \n",
       "98097                1965          Male                      No          56   \n",
       "182867               1992          Male                      No          29   \n",
       "29503                1982        Female                      No          39   \n",
       "133994               1994        Female                      No          27   \n",
       "109635               1980        Female                      No          41   \n",
       "84133                1965          Male                      No          56   \n",
       "79327                1980          Male                      No          41   \n",
       "115247               1986          Male                      No          35   \n",
       "170684               1992          Male                     Yes          29   \n",
       "\n",
       "       start_time_month start_time_day  start_time_hour  \n",
       "57000          February            Thu                8  \n",
       "98097          February            Fri                8  \n",
       "182867         February            Fri                7  \n",
       "29503          February            Mon                7  \n",
       "133994         February            Fri               18  \n",
       "109635         February            Tue               18  \n",
       "84133          February            Sun               18  \n",
       "79327          February            Mon               17  \n",
       "115247         February            Tue                8  \n",
       "170684         February            Mon                7  "
      ]
     },
     "execution_count": 17,
     "metadata": {},
     "output_type": "execute_result"
    }
   ],
   "source": [
    "df_cleaned.sample(10)"
   ]
  },
  {
   "cell_type": "code",
   "execution_count": 18,
   "metadata": {},
   "outputs": [],
   "source": [
    "import math\n",
    "from math import radians, sin, cos, acos\n",
    "\n",
    "def distance(origin, destination):\n",
    "\n",
    "    lat1, long1 = origin\n",
    "    lat2, long2 = destination\n",
    "    radius = 6371\n",
    "    # this is in kilometers - will convert to US units of miles after\n",
    "\n",
    "    dlat = math.radians(lat2 - lat1)\n",
    "    dlong = math.radians(long2 - long1)\n",
    "    \n",
    "    a = (math.sin(dlat / 2) * math.sin(dlat / 2) + math.cos(math.radians(lat1)) * math.cos(math.radians(lat2)) * math.sin(dlong / 2) * math.sin(dlong / 2))\n",
    "    c = 2 * math.atan2(math.sqrt(a), math.sqrt(1 - a))\n",
    "    d = radius * c\n",
    "\n",
    "    return d"
   ]
  },
  {
   "cell_type": "code",
   "execution_count": 19,
   "metadata": {},
   "outputs": [],
   "source": [
    "df_cleaned['distance'] = df_cleaned.apply(lambda x: distance((x['start_station_latitude'], x['start_station_longitude']), (x['end_station_latitude'], x['end_station_longitude'])), axis=1)"
   ]
  },
  {
   "cell_type": "code",
   "execution_count": 20,
   "metadata": {},
   "outputs": [],
   "source": [
    "df_cleaned.start_time = pd.to_datetime(df_cleaned.start_time)\n",
    "df_cleaned.end_time = pd.to_datetime(df_cleaned.end_time)\n",
    "df_cleaned.bike_id = df_cleaned.bike_id.astype(str)\n",
    "df_cleaned.start_station_id = df_cleaned.start_station_id.astype(str)\n",
    "df_cleaned.end_station_id = df_cleaned.end_station_id.astype(str)"
   ]
  },
  {
   "cell_type": "code",
   "execution_count": 21,
   "metadata": {},
   "outputs": [
    {
     "name": "stdout",
     "output_type": "stream",
     "text": [
      "<class 'pandas.core.frame.DataFrame'>\n",
      "Int64Index: 170186 entries, 0 to 183411\n",
      "Data columns (total 21 columns):\n",
      " #   Column                   Non-Null Count   Dtype         \n",
      "---  ------                   --------------   -----         \n",
      " 0   duration_sec             170186 non-null  int64         \n",
      " 1   start_time               170186 non-null  datetime64[ns]\n",
      " 2   end_time                 170186 non-null  datetime64[ns]\n",
      " 3   start_station_id         170186 non-null  object        \n",
      " 4   start_station_name       169992 non-null  object        \n",
      " 5   start_station_latitude   170186 non-null  float64       \n",
      " 6   start_station_longitude  170186 non-null  float64       \n",
      " 7   end_station_id           170186 non-null  object        \n",
      " 8   end_station_name         169992 non-null  object        \n",
      " 9   end_station_latitude     170186 non-null  float64       \n",
      " 10  end_station_longitude    170186 non-null  float64       \n",
      " 11  bike_id                  170186 non-null  object        \n",
      " 12  user_type                170186 non-null  object        \n",
      " 13  member_birth_year        170186 non-null  int32         \n",
      " 14  member_gender            170186 non-null  object        \n",
      " 15  bike_share_for_all_trip  170186 non-null  object        \n",
      " 16  member_age               170186 non-null  int32         \n",
      " 17  start_time_month         170186 non-null  object        \n",
      " 18  start_time_day           170186 non-null  object        \n",
      " 19  start_time_hour          170186 non-null  int64         \n",
      " 20  distance                 170186 non-null  float64       \n",
      "dtypes: datetime64[ns](2), float64(5), int32(2), int64(2), object(10)\n",
      "memory usage: 27.3+ MB\n"
     ]
    }
   ],
   "source": [
    "df_cleaned.info()"
   ]
  },
  {
   "cell_type": "code",
   "execution_count": 22,
   "metadata": {},
   "outputs": [],
   "source": [
    "df_cleaned.to_csv('df_cleaned.csv', index=False)"
   ]
  },
  {
   "cell_type": "markdown",
   "metadata": {},
   "source": [
    "### When are most trips taken in terms of time of day and day of the week?"
   ]
  },
  {
   "cell_type": "code",
   "execution_count": 23,
   "metadata": {},
   "outputs": [
    {
     "data": {
      "text/plain": [
       "<AxesSubplot:title={'center':'The are most trips taken in terms of day of the week'}, xlabel='start_time_hour', ylabel='count'>"
      ]
     },
     "execution_count": 23,
     "metadata": {},
     "output_type": "execute_result"
    },
    {
     "data": {
      "image/png": "[encoded data removed]",
      "text/plain": [
       "<Figure size 1008x576 with 2 Axes>"
      ]
     },
     "metadata": {},
     "output_type": "display_data"
    }
   ],
   "source": [
    "sns.set_style('white')\n",
    "fig, (ax1, ax2) = plt.subplots(nrows=2, figsize = [14, 8])\n",
    "ax1.set_title('The most trips taken in terms of time of day')\n",
    "ax2.set_title('The are most trips taken in terms of day of the week')\n",
    "sns.countplot(data = df_cleaned, x = 'start_time_day', color = 'purple', alpha=0.8, ax = ax1)\n",
    "sns.countplot(data = df_cleaned, x = 'start_time_hour', color = 'gray', ax = ax2)"
   ]
  },
  {
   "cell_type": "markdown",
   "metadata": {},
   "source": [
    "- People tend to not go in bike trips during the weekends\n",
    "- People tend to go for bike trrips early in the morning and the hours before the sunset"
   ]
  },
  {
   "cell_type": "markdown",
   "metadata": {},
   "source": [
    "### what is the count of trips for each user type?"
   ]
  },
  {
   "cell_type": "code",
   "execution_count": 24,
   "metadata": {},
   "outputs": [
    {
     "data": {
      "text/plain": [
       "[Text(0.5, 0, 'Type of user'), Text(0, 0.5, 'Count of rides')]"
      ]
     },
     "execution_count": 24,
     "metadata": {},
     "output_type": "execute_result"
    },
    {
     "data": {
      "image/png": "[encoded data removed]",
      "text/plain": [
       "<Figure size 432x288 with 1 Axes>"
      ]
     },
     "metadata": {},
     "output_type": "display_data"
    }
   ],
   "source": [
    "b=sns.countplot(data = df_cleaned, x = 'user_type');\n",
    "plt.title('Count of rides for each type of users')\n",
    "b.set(xlabel='Type of user', ylabel='Count of rides')"
   ]
  },
  {
   "cell_type": "markdown",
   "metadata": {},
   "source": [
    "- Subscribers have x8 more count of rides than customers"
   ]
  },
  {
   "cell_type": "markdown",
   "metadata": {},
   "source": [
    "### What are the ages of bike riders?"
   ]
  },
  {
   "cell_type": "code",
   "execution_count": 25,
   "metadata": {},
   "outputs": [
    {
     "data": {
      "text/plain": [
       "[Text(0.5, 0, 'Age')]"
      ]
     },
     "execution_count": 25,
     "metadata": {},
     "output_type": "execute_result"
    },
    {
     "data": {
      "image/png": "[encoded data removed]",
      "text/plain": [
       "<Figure size 432x288 with 1 Axes>"
      ]
     },
     "metadata": {},
     "output_type": "display_data"
    }
   ],
   "source": [
    "c=sns.violinplot(data = df_cleaned, x = 'member_age');\n",
    "plt.title('Count of rides for each age')\n",
    "c.set(xlabel='Age')"
   ]
  },
  {
   "cell_type": "markdown",
   "metadata": {},
   "source": [
    "- People in their early 30s make the majority of rides count."
   ]
  },
  {
   "cell_type": "markdown",
   "metadata": {},
   "source": [
    "### What gender travelled more?"
   ]
  },
  {
   "cell_type": "code",
   "execution_count": 26,
   "metadata": {},
   "outputs": [
    {
     "data": {
      "image/png": "[encoded data removed]",
      "text/plain": [
       "<Figure size 576x576 with 1 Axes>"
      ]
     },
     "metadata": {},
     "output_type": "display_data"
    }
   ],
   "source": [
    "plt.figure(figsize= [8,8])\n",
    "a = df_cleaned[df_cleaned.member_gender == 'Female'].distance.sum()\n",
    "b = df_cleaned[df_cleaned.member_gender == 'Male'].distance.sum()\n",
    "c = df_cleaned[df_cleaned.member_gender == 'Other'].distance.sum()\n",
    "\n",
    "plt.pie([a, b,c], autopct='%1.1f%%', labels=['Female', 'Male','Other'], colors=[\"purple\",\"blue\", \"gray\"])\n",
    "plt.title(\"Distance travelled by each gender\", fontsize=10)\n",
    "plt.show()"
   ]
  },
  {
   "cell_type": "markdown",
   "metadata": {},
   "source": [
    "- Females make around quarter of the total distance traveled while males travel almost x3 more."
   ]
  },
  {
   "cell_type": "markdown",
   "metadata": {},
   "source": [
    "### what is the trip duration for each gender?"
   ]
  },
  {
   "cell_type": "code",
   "execution_count": 27,
   "metadata": {},
   "outputs": [
    {
     "data": {
      "image/png": "[encoded data removed]",
      "text/plain": [
       "<Figure size 1080x360 with 3 Axes>"
      ]
     },
     "metadata": {},
     "output_type": "display_data"
    }
   ],
   "source": [
    "data = df_cleaned.query('duration_sec < 4000')\n",
    "g = sns.catplot(data=data, y='duration_sec', col=\"member_gender\", kind='boxen', palette = 'Blues')\n",
    "g.set_titles(col_template = '{col_name}')\n",
    "g.set_axis_labels(\"\", \"duration in secends\")\n",
    "g.fig.suptitle('Trip duration for each gender', y=1.03, fontsize=14, fontweight='semibold');"
   ]
  },
  {
   "cell_type": "markdown",
   "metadata": {},
   "source": [
    "- females have a higher trip duration than males around 650 secends."
   ]
  },
  {
   "cell_type": "markdown",
   "metadata": {},
   "source": [
    "### Does the the count for the start day and hour depend on if a user is a female or male?"
   ]
  },
  {
   "cell_type": "code",
   "execution_count": 28,
   "metadata": {},
   "outputs": [
    {
     "data": {
      "text/html": [
       "<div>\n",
       "<style scoped>\n",
       "    .dataframe tbody tr th:only-of-type {\n",
       "        vertical-align: middle;\n",
       "    }\n",
       "\n",
       "    .dataframe tbody tr th {\n",
       "        vertical-align: top;\n",
       "    }\n",
       "\n",
       "    .dataframe thead th {\n",
       "        text-align: right;\n",
       "    }\n",
       "</style>\n",
       "<table border=\"1\" class=\"dataframe\">\n",
       "  <thead>\n",
       "    <tr style=\"text-align: right;\">\n",
       "      <th></th>\n",
       "      <th>member_gender</th>\n",
       "      <th>start_time_day</th>\n",
       "      <th>0</th>\n",
       "    </tr>\n",
       "  </thead>\n",
       "  <tbody>\n",
       "    <tr>\n",
       "      <th>0</th>\n",
       "      <td>Female</td>\n",
       "      <td>Fri</td>\n",
       "      <td>6038</td>\n",
       "    </tr>\n",
       "    <tr>\n",
       "      <th>1</th>\n",
       "      <td>Female</td>\n",
       "      <td>Mon</td>\n",
       "      <td>5705</td>\n",
       "    </tr>\n",
       "    <tr>\n",
       "      <th>2</th>\n",
       "      <td>Female</td>\n",
       "      <td>Sat</td>\n",
       "      <td>3401</td>\n",
       "    </tr>\n",
       "    <tr>\n",
       "      <th>3</th>\n",
       "      <td>Female</td>\n",
       "      <td>Sun</td>\n",
       "      <td>3511</td>\n",
       "    </tr>\n",
       "    <tr>\n",
       "      <th>4</th>\n",
       "      <td>Female</td>\n",
       "      <td>Thu</td>\n",
       "      <td>7896</td>\n",
       "    </tr>\n",
       "    <tr>\n",
       "      <th>5</th>\n",
       "      <td>Female</td>\n",
       "      <td>Tue</td>\n",
       "      <td>7154</td>\n",
       "    </tr>\n",
       "    <tr>\n",
       "      <th>6</th>\n",
       "      <td>Female</td>\n",
       "      <td>Wed</td>\n",
       "      <td>6432</td>\n",
       "    </tr>\n",
       "    <tr>\n",
       "      <th>7</th>\n",
       "      <td>Male</td>\n",
       "      <td>Fri</td>\n",
       "      <td>20269</td>\n",
       "    </tr>\n",
       "    <tr>\n",
       "      <th>8</th>\n",
       "      <td>Male</td>\n",
       "      <td>Mon</td>\n",
       "      <td>18740</td>\n",
       "    </tr>\n",
       "    <tr>\n",
       "      <th>9</th>\n",
       "      <td>Male</td>\n",
       "      <td>Sat</td>\n",
       "      <td>10306</td>\n",
       "    </tr>\n",
       "    <tr>\n",
       "      <th>10</th>\n",
       "      <td>Male</td>\n",
       "      <td>Sun</td>\n",
       "      <td>10269</td>\n",
       "    </tr>\n",
       "    <tr>\n",
       "      <th>11</th>\n",
       "      <td>Male</td>\n",
       "      <td>Thu</td>\n",
       "      <td>24163</td>\n",
       "    </tr>\n",
       "    <tr>\n",
       "      <th>12</th>\n",
       "      <td>Male</td>\n",
       "      <td>Tue</td>\n",
       "      <td>22091</td>\n",
       "    </tr>\n",
       "    <tr>\n",
       "      <th>13</th>\n",
       "      <td>Male</td>\n",
       "      <td>Wed</td>\n",
       "      <td>20623</td>\n",
       "    </tr>\n",
       "    <tr>\n",
       "      <th>14</th>\n",
       "      <td>Other</td>\n",
       "      <td>Fri</td>\n",
       "      <td>576</td>\n",
       "    </tr>\n",
       "    <tr>\n",
       "      <th>15</th>\n",
       "      <td>Other</td>\n",
       "      <td>Mon</td>\n",
       "      <td>530</td>\n",
       "    </tr>\n",
       "    <tr>\n",
       "      <th>16</th>\n",
       "      <td>Other</td>\n",
       "      <td>Sat</td>\n",
       "      <td>308</td>\n",
       "    </tr>\n",
       "    <tr>\n",
       "      <th>17</th>\n",
       "      <td>Other</td>\n",
       "      <td>Sun</td>\n",
       "      <td>302</td>\n",
       "    </tr>\n",
       "    <tr>\n",
       "      <th>18</th>\n",
       "      <td>Other</td>\n",
       "      <td>Thu</td>\n",
       "      <td>716</td>\n",
       "    </tr>\n",
       "    <tr>\n",
       "      <th>19</th>\n",
       "      <td>Other</td>\n",
       "      <td>Tue</td>\n",
       "      <td>559</td>\n",
       "    </tr>\n",
       "    <tr>\n",
       "      <th>20</th>\n",
       "      <td>Other</td>\n",
       "      <td>Wed</td>\n",
       "      <td>597</td>\n",
       "    </tr>\n",
       "  </tbody>\n",
       "</table>\n",
       "</div>"
      ],
      "text/plain": [
       "   member_gender start_time_day      0\n",
       "0         Female            Fri   6038\n",
       "1         Female            Mon   5705\n",
       "2         Female            Sat   3401\n",
       "3         Female            Sun   3511\n",
       "4         Female            Thu   7896\n",
       "5         Female            Tue   7154\n",
       "6         Female            Wed   6432\n",
       "7           Male            Fri  20269\n",
       "8           Male            Mon  18740\n",
       "9           Male            Sat  10306\n",
       "10          Male            Sun  10269\n",
       "11          Male            Thu  24163\n",
       "12          Male            Tue  22091\n",
       "13          Male            Wed  20623\n",
       "14         Other            Fri    576\n",
       "15         Other            Mon    530\n",
       "16         Other            Sat    308\n",
       "17         Other            Sun    302\n",
       "18         Other            Thu    716\n",
       "19         Other            Tue    559\n",
       "20         Other            Wed    597"
      ]
     },
     "execution_count": 28,
     "metadata": {},
     "output_type": "execute_result"
    }
   ],
   "source": [
    "Genderdf = df_cleaned.groupby([\"member_gender\", \"start_time_day\"]).size().reset_index()\n",
    "Genderdf"
   ]
  },
  {
   "cell_type": "code",
   "execution_count": 29,
   "metadata": {},
   "outputs": [
    {
     "data": {
      "image/png": "[encoded data removed]",
      "text/plain": [
       "<Figure size 720x576 with 1 Axes>"
      ]
     },
     "metadata": {},
     "output_type": "display_data"
    }
   ],
   "source": [
    "plt.figure(figsize=(10,8))\n",
    "colors = {'Female':'purple', 'Male':'blue', 'Other':'gray'}\n",
    "ax = sns.pointplot(x='start_time_day', y=0, hue='member_gender', palette=colors, scale=.7, data=Genderdf)\n",
    "plt.title('Count of rides for each gender per day')\n",
    "plt.xlabel('Day for the week', labelpad=16)\n",
    "plt.ylabel('Count of rides', labelpad=16)\n",
    "leg = ax.legend()\n",
    "leg.set_title('Gender')"
   ]
  },
  {
   "cell_type": "markdown",
   "metadata": {},
   "source": [
    "- Gender has nothing to do with the preferred start date all genders prefer to start on thursdays and weekends seems like an unprefered choice"
   ]
  },
  {
   "cell_type": "code",
   "execution_count": 30,
   "metadata": {},
   "outputs": [
    {
     "data": {
      "text/html": [
       "<div>\n",
       "<style scoped>\n",
       "    .dataframe tbody tr th:only-of-type {\n",
       "        vertical-align: middle;\n",
       "    }\n",
       "\n",
       "    .dataframe tbody tr th {\n",
       "        vertical-align: top;\n",
       "    }\n",
       "\n",
       "    .dataframe thead th {\n",
       "        text-align: right;\n",
       "    }\n",
       "</style>\n",
       "<table border=\"1\" class=\"dataframe\">\n",
       "  <thead>\n",
       "    <tr style=\"text-align: right;\">\n",
       "      <th></th>\n",
       "      <th>member_gender</th>\n",
       "      <th>start_time_hour</th>\n",
       "      <th>0</th>\n",
       "    </tr>\n",
       "  </thead>\n",
       "  <tbody>\n",
       "    <tr>\n",
       "      <th>0</th>\n",
       "      <td>Female</td>\n",
       "      <td>0</td>\n",
       "      <td>119</td>\n",
       "    </tr>\n",
       "    <tr>\n",
       "      <th>1</th>\n",
       "      <td>Female</td>\n",
       "      <td>1</td>\n",
       "      <td>70</td>\n",
       "    </tr>\n",
       "    <tr>\n",
       "      <th>2</th>\n",
       "      <td>Female</td>\n",
       "      <td>2</td>\n",
       "      <td>24</td>\n",
       "    </tr>\n",
       "    <tr>\n",
       "      <th>3</th>\n",
       "      <td>Female</td>\n",
       "      <td>3</td>\n",
       "      <td>13</td>\n",
       "    </tr>\n",
       "    <tr>\n",
       "      <th>4</th>\n",
       "      <td>Female</td>\n",
       "      <td>4</td>\n",
       "      <td>16</td>\n",
       "    </tr>\n",
       "    <tr>\n",
       "      <th>...</th>\n",
       "      <td>...</td>\n",
       "      <td>...</td>\n",
       "      <td>...</td>\n",
       "    </tr>\n",
       "    <tr>\n",
       "      <th>67</th>\n",
       "      <td>Other</td>\n",
       "      <td>19</td>\n",
       "      <td>214</td>\n",
       "    </tr>\n",
       "    <tr>\n",
       "      <th>68</th>\n",
       "      <td>Other</td>\n",
       "      <td>20</td>\n",
       "      <td>126</td>\n",
       "    </tr>\n",
       "    <tr>\n",
       "      <th>69</th>\n",
       "      <td>Other</td>\n",
       "      <td>21</td>\n",
       "      <td>109</td>\n",
       "    </tr>\n",
       "    <tr>\n",
       "      <th>70</th>\n",
       "      <td>Other</td>\n",
       "      <td>22</td>\n",
       "      <td>73</td>\n",
       "    </tr>\n",
       "    <tr>\n",
       "      <th>71</th>\n",
       "      <td>Other</td>\n",
       "      <td>23</td>\n",
       "      <td>42</td>\n",
       "    </tr>\n",
       "  </tbody>\n",
       "</table>\n",
       "<p>72 rows × 3 columns</p>\n",
       "</div>"
      ],
      "text/plain": [
       "   member_gender  start_time_hour    0\n",
       "0         Female                0  119\n",
       "1         Female                1   70\n",
       "2         Female                2   24\n",
       "3         Female                3   13\n",
       "4         Female                4   16\n",
       "..           ...              ...  ...\n",
       "67         Other               19  214\n",
       "68         Other               20  126\n",
       "69         Other               21  109\n",
       "70         Other               22   73\n",
       "71         Other               23   42\n",
       "\n",
       "[72 rows x 3 columns]"
      ]
     },
     "execution_count": 30,
     "metadata": {},
     "output_type": "execute_result"
    }
   ],
   "source": [
    "Genderdf1 = df_cleaned.groupby([\"member_gender\", \"start_time_hour\"]).size().reset_index()\n",
    "Genderdf1"
   ]
  },
  {
   "cell_type": "code",
   "execution_count": 31,
   "metadata": {},
   "outputs": [
    {
     "data": {
      "image/png": "[encoded data removed]",
      "text/plain": [
       "<Figure size 720x576 with 1 Axes>"
      ]
     },
     "metadata": {},
     "output_type": "display_data"
    }
   ],
   "source": [
    "plt.figure(figsize=(10,8))\n",
    "colors = {'Female':'purple', 'Male':'blue', 'Other':'gray'}\n",
    "ax = sns.pointplot(x='start_time_hour', y=0, hue='member_gender', palette=colors, scale=.7, data=Genderdf1)\n",
    "plt.title('Count of rides for each gender per hour')\n",
    "plt.xlabel('Hour of the day', labelpad=16)\n",
    "plt.ylabel('Count of rides', labelpad=16)\n",
    "leg = ax.legend()\n",
    "leg.set_title('Gender')"
   ]
  },
  {
   "cell_type": "markdown",
   "metadata": {},
   "source": [
    "- Gender has nothing to do with the preferred start date all genders prefer to start on 8th and 17th day of the month "
   ]
  },
  {
   "cell_type": "code",
   "execution_count": 32,
   "metadata": {},
   "outputs": [
    {
     "data": {
      "text/html": [
       "<div>\n",
       "<style scoped>\n",
       "    .dataframe tbody tr th:only-of-type {\n",
       "        vertical-align: middle;\n",
       "    }\n",
       "\n",
       "    .dataframe tbody tr th {\n",
       "        vertical-align: top;\n",
       "    }\n",
       "\n",
       "    .dataframe thead th {\n",
       "        text-align: right;\n",
       "    }\n",
       "</style>\n",
       "<table border=\"1\" class=\"dataframe\">\n",
       "  <thead>\n",
       "    <tr style=\"text-align: right;\">\n",
       "      <th></th>\n",
       "      <th>member_age</th>\n",
       "      <th>member_gender</th>\n",
       "      <th>0</th>\n",
       "    </tr>\n",
       "  </thead>\n",
       "  <tbody>\n",
       "    <tr>\n",
       "      <th>0</th>\n",
       "      <td>20</td>\n",
       "      <td>Female</td>\n",
       "      <td>18</td>\n",
       "    </tr>\n",
       "    <tr>\n",
       "      <th>1</th>\n",
       "      <td>20</td>\n",
       "      <td>Male</td>\n",
       "      <td>16</td>\n",
       "    </tr>\n",
       "    <tr>\n",
       "      <th>2</th>\n",
       "      <td>21</td>\n",
       "      <td>Female</td>\n",
       "      <td>427</td>\n",
       "    </tr>\n",
       "    <tr>\n",
       "      <th>3</th>\n",
       "      <td>21</td>\n",
       "      <td>Male</td>\n",
       "      <td>1249</td>\n",
       "    </tr>\n",
       "    <tr>\n",
       "      <th>4</th>\n",
       "      <td>21</td>\n",
       "      <td>Other</td>\n",
       "      <td>2</td>\n",
       "    </tr>\n",
       "    <tr>\n",
       "      <th>...</th>\n",
       "      <td>...</td>\n",
       "      <td>...</td>\n",
       "      <td>...</td>\n",
       "    </tr>\n",
       "    <tr>\n",
       "      <th>117</th>\n",
       "      <td>59</td>\n",
       "      <td>Male</td>\n",
       "      <td>635</td>\n",
       "    </tr>\n",
       "    <tr>\n",
       "      <th>118</th>\n",
       "      <td>59</td>\n",
       "      <td>Other</td>\n",
       "      <td>19</td>\n",
       "    </tr>\n",
       "    <tr>\n",
       "      <th>119</th>\n",
       "      <td>60</td>\n",
       "      <td>Female</td>\n",
       "      <td>163</td>\n",
       "    </tr>\n",
       "    <tr>\n",
       "      <th>120</th>\n",
       "      <td>60</td>\n",
       "      <td>Male</td>\n",
       "      <td>656</td>\n",
       "    </tr>\n",
       "    <tr>\n",
       "      <th>121</th>\n",
       "      <td>60</td>\n",
       "      <td>Other</td>\n",
       "      <td>2</td>\n",
       "    </tr>\n",
       "  </tbody>\n",
       "</table>\n",
       "<p>122 rows × 3 columns</p>\n",
       "</div>"
      ],
      "text/plain": [
       "     member_age member_gender     0\n",
       "0            20        Female    18\n",
       "1            20          Male    16\n",
       "2            21        Female   427\n",
       "3            21          Male  1249\n",
       "4            21         Other     2\n",
       "..          ...           ...   ...\n",
       "117          59          Male   635\n",
       "118          59         Other    19\n",
       "119          60        Female   163\n",
       "120          60          Male   656\n",
       "121          60         Other     2\n",
       "\n",
       "[122 rows x 3 columns]"
      ]
     },
     "execution_count": 32,
     "metadata": {},
     "output_type": "execute_result"
    }
   ],
   "source": [
    "Genderdf2 = df_cleaned.groupby([\"member_age\",\"member_gender\"]).size().reset_index()\n",
    "Genderdf2"
   ]
  },
  {
   "cell_type": "markdown",
   "metadata": {},
   "source": [
    "### Is the count of riders affected by gender and age?"
   ]
  },
  {
   "cell_type": "code",
   "execution_count": 33,
   "metadata": {},
   "outputs": [
    {
     "data": {
      "image/png": "[encoded data removed]",
      "text/plain": [
       "<Figure size 1440x720 with 1 Axes>"
      ]
     },
     "metadata": {},
     "output_type": "display_data"
    }
   ],
   "source": [
    "plt.figure(figsize=(20,10))\n",
    "ax = sns.barplot(x=\"member_age\", y=0, hue=\"member_gender\", palette=colors, data=Genderdf2)\n",
    "plt.title('Count of rides for each gender and age per day')\n",
    "plt.xlabel('Day of the week', labelpad=16)\n",
    "plt.ylabel('Count of rides', labelpad=16)\n",
    "leg = ax.legend()\n",
    "leg.set_title('Gender')"
   ]
  },
  {
   "cell_type": "markdown",
   "metadata": {},
   "source": [
    "- Most female bike riders are 31 while males are of age 33. In general, riders are in their late 20s to middel 30s."
   ]
  },
  {
   "cell_type": "markdown",
   "metadata": {},
   "source": [
    "### What is the count of rides based on user type and day?"
   ]
  },
  {
   "cell_type": "code",
   "execution_count": 34,
   "metadata": {},
   "outputs": [
    {
     "data": {
      "text/plain": [
       "[Text(0.5, 0, 'Start day'), Text(0, 0.5, 'Count of rides')]"
      ]
     },
     "execution_count": 34,
     "metadata": {},
     "output_type": "execute_result"
    },
    {
     "data": {
      "image/png": "[encoded data removed]",
      "text/plain": [
       "<Figure size 720x576 with 1 Axes>"
      ]
     },
     "metadata": {},
     "output_type": "display_data"
    }
   ],
   "source": [
    "plt.figure(figsize=(10,8))\n",
    "plt.title('Count of rides for each type of users per day')\n",
    "d=sns.countplot(data = df_cleaned, x = 'start_time_day', hue = 'user_type', palette = 'Blues');\n",
    "d.set(xlabel='Start day', ylabel='Count of rides')"
   ]
  },
  {
   "cell_type": "markdown",
   "metadata": {},
   "source": [
    "- Subscriber tend not to start during the weekend while customers are less likely to start on wednesdays"
   ]
  },
  {
   "cell_type": "markdown",
   "metadata": {},
   "source": [
    "### What is the trip duration for user type and gender?"
   ]
  },
  {
   "cell_type": "code",
   "execution_count": 35,
   "metadata": {},
   "outputs": [
    {
     "data": {
      "image/png": "[encoded data removed]",
      "text/plain": [
       "<Figure size 720x720 with 1 Axes>"
      ]
     },
     "metadata": {},
     "output_type": "display_data"
    }
   ],
   "source": [
    "box = sns.catplot(data=data, x='user_type', y=\"duration_sec\", hue=\"member_gender\", kind=\"box\", palette = colors)\n",
    "box.set_axis_labels(\"User Type\", \"Trip duration in secends\")\n",
    "box._legend.set_title('Gender')\n",
    "box.fig.suptitle('Trip duration for each user type and gender');\n",
    "box.fig.set_size_inches(10,10)"
   ]
  },
  {
   "cell_type": "markdown",
   "metadata": {},
   "source": [
    "- In general customers has a higher trip duration than customers. males and other gender has same maximum value of duration which is around 550 seconds."
   ]
  },
  {
   "cell_type": "markdown",
   "metadata": {},
   "source": [
    "## Summary of main findings"
   ]
  },
  {
   "cell_type": "markdown",
   "metadata": {},
   "source": [
    "\n",
    "- People tend to not go in bike trips during the weekends\n",
    "- People tend to go for bike trrips early in the morning and the hours before the sunset\n",
    "- Subscribers have x8 more count of rides than customers\n",
    "- People in their early 30s make the majority of rides count.\n",
    "- Females make around quarter of the total distance traveled while males travel almost x3 more.\n",
    "- females have a higher trip duration than males around 650 secends.\n",
    "- Gender has nothing to do with the preferred start date all genders prefer to start on thursdays and weekends seems like an unprefered choice\n",
    "- Gender has nothing to do with the preferred start date all genders prefer to start on 8th and 17th day of the month \n",
    "- Most female bike riders are 31 while males are of age 33. In general, riders are in their late 20s to middel 30s.\n",
    "- Subscriber tend not to start during the weekend while customers are less likely to start on wednesdays\n",
    "- In general customers has a higher trip duration than customers. males and other gender has same maximum value of duration which is around 550 seconds."
   ]
  }
 ],
 "metadata": {
  "kernelspec": {
   "display_name": "Python 3",
   "language": "python",
   "name": "python3"
  },
  "language_info": {
   "codemirror_mode": {
    "name": "ipython",
    "version": 3
   },
   "file_extension": ".py",
   "mimetype": "text/x-python",
   "name": "python",
   "nbconvert_exporter": "python",
   "pygments_lexer": "ipython3",
   "version": "3.7.9"
  }
 },
 "nbformat": 4,
 "nbformat_minor": 4
}
